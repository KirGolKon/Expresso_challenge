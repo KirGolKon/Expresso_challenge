{
 "cells": [
  {
   "cell_type": "code",
   "execution_count": null,
   "metadata": {},
   "outputs": [],
   "source": [
    "import pandas as pd\n",
    "import numpy as np\n",
    "\n",
    "import lightgbm as lgb\n",
    "import catboost as cat\n",
    "\n",
    "from sklearn.model_selection import StratifiedKFold"
   ]
  },
  {
   "cell_type": "code",
   "execution_count": null,
   "metadata": {},
   "outputs": [],
   "source": [
    "reg_dic = {\n",
    "    'SEDHIOU': 1, \n",
    "    'KEDOUGOU': 2,\n",
    "    'DIOURBEL': 3,\n",
    "    'ZIGUINCHOR': 4,\n",
    "    'KAOLACK': 5,\n",
    "    'MATAM': 6, \n",
    "    'DAKAR': 7,\n",
    "    'THIES': 8,\n",
    "    'LOUGA': 9, \n",
    "    'TAMBACOUNDA': 10,\n",
    "    'FATICK': 11,\n",
    "    'SAINT-LOUIS': 12,\n",
    "    'KOLDA': 13, \n",
    "    'KAFFRINE': 14\n",
    "}\n",
    "tenure_dic = {\n",
    "    'G 12-15 month': 1,\n",
    "    'I 18-21 month': 2,\n",
    "    'H 15-18 month': 3,\n",
    "    'F 9-12 month': 4,\n",
    "    'J 21-24 month': 5,\n",
    "    'K > 24 month': 6,\n",
    "    'E 6-9 month': 7,\n",
    "    'D 3-6 month': 8    \n",
    "}"
   ]
  },
  {
   "cell_type": "code",
   "execution_count": null,
   "metadata": {},
   "outputs": [],
   "source": [
    "def preparing(df, is_train=True):\n",
    "    df.columns = [i.lower() for i in df.columns]\n",
    "    df = df.drop(['mrg'], axis=1)\n",
    "    \n",
    "    # label encoding\n",
    "    df[\"region\"] = df[\"region\"].replace(reg_dic)\n",
    "    df[\"tenure\"] = df[\"tenure\"].replace(tenure_dic)   \n",
    "    \n",
    "    # count columns with NaN values by row \n",
    "    df['is_null'] = df.isna().sum(axis=1)\n",
    "    \n",
    "    df['balance'] = df['montant'] - df['revenue']\n",
    "     \n",
    "    # interactions of columns with NaN values\n",
    "    agg_cols = ['region', 'montant', 'frequence_rech', 'revenue', 'data_volume', 'on_net', 'zone1', 'zone2', 'freq_top_pack']\n",
    "    for col in agg_cols:\n",
    "        for col2 in agg_cols:\n",
    "            if col<col2:\n",
    "                df[f\"{col}_{col2}_is_null\"] = df[[col,col2]].isna().sum(axis=1)\n",
    "    \n",
    "    # montant and revenue are linearly dependent, so we can fill NaN's in one column with value in another column\n",
    "    df['montant'] = df['montant'].fillna(df.revenue)\n",
    "    df['revenue'] = df['revenue'].fillna(df.montant)\n",
    "    df['frequence'] = df['frequence'].fillna(df.frequence_rech)\n",
    "    df['frequence_rech'] = df['frequence_rech'].fillna(df.frequence)\n",
    "    \n",
    "    # identifier of the fact that revenue is divisible by 10\n",
    "    df['rev_good'] = df['revenue'].apply(lambda x: 1 if len(str(x))>2 and str(x)[-4:]=='0.0' else 0)\n",
    "    \n",
    "    # sums of columns with activities (calls and data_volume)\n",
    "    df['other_cnt_calls'] = df[['tigo','zone1','zone2','orange']].sum(axis=1)\n",
    "    df['cnt_calls'] = df[['on_net', 'tigo','zone1','zone2','orange']].sum(axis=1)\n",
    "    df['cnt_data_voice'] = df['data_volume'].fillna(0)/20 + df['cnt_calls']\n",
    "    \n",
    "    df['on_net_part'] = df['on_net'].fillna(0).div(df['cnt_calls'], fill_value=0)  \n",
    "    \n",
    "    # agregation some features by top_pack\n",
    "    agg_cols = ['data_volume', 'montant', 'frequence_rech', 'revenue', 'frequence', 'on_net', 'regularity']\n",
    "    agg_by_top_pack = df.groupby('top_pack').agg({col:'median' for col in agg_cols}).reset_index()\n",
    "    agg_by_top_pack.columns = ['top_pack'] + [col+'_median_top_pack' for col in agg_cols]\n",
    "    if is_train:\n",
    "        df = df.merge(agg_by_top_pack, on='top_pack', how='left')\n",
    "    \n",
    "    # drop useless columns\n",
    "    df = df.drop(['freq_top_pack_zone1_is_null', 'data_volume_frequence_rech_is_null', 'frequence_rech_revenue_is_null', \n",
    "        'on_net_zone2_is_null', 'on_net_zone1_is_null', 'frequence_rech_zone1_is_null', 'freq_top_pack_zone2_is_null',\n",
    "        'freq_top_pack_montant_is_null', 'freq_top_pack_frequence_rech_is_null', 'frequence_rech_zone2_is_null',\n",
    "                   'arpu_segment'], axis=1)\n",
    "    \n",
    "    for col in ['data_volume','on_net', 'orange','freq_top_pack', 'montant', 'revenue', 'frequence', 'frequence_rech', \n",
    "                'cnt_calls', 'other_cnt_calls', 'cnt_data_voice']:\n",
    "        df[col] = np.log1p(df[col])\n",
    "   \n",
    "    return df, agg_by_top_pack"
   ]
  },
  {
   "cell_type": "code",
   "execution_count": null,
   "metadata": {},
   "outputs": [],
   "source": [
    "df, agg_by_top_pack = preparing(pd.read_csv('Train.csv'))\n",
    "y = df[\"churn\"]\n",
    "folds = StratifiedKFold(n_splits=5, shuffle=True, random_state=1234)\n",
    "features = [\n",
    "    'region', 'tenure', 'montant', 'frequence_rech', 'revenue', 'frequence', 'data_volume', 'on_net', 'orange', 'tigo',\n",
    "    'zone1', 'zone2', 'regularity', 'freq_top_pack', 'is_null', 'balance', 'region_revenue_is_null', \n",
    "    'region_zone1_is_null', 'region_zone2_is_null', 'montant_region_is_null', 'montant_revenue_is_null',\n",
    "    'montant_on_net_is_null', 'montant_zone1_is_null', 'montant_zone2_is_null', 'frequence_rech_region_is_null', \n",
    "    'frequence_rech_montant_is_null', 'frequence_rech_on_net_is_null', 'revenue_zone1_is_null', 'revenue_zone2_is_null',\n",
    "    'data_volume_region_is_null', 'data_volume_montant_is_null', 'data_volume_revenue_is_null', \n",
    "    'data_volume_on_net_is_null', 'data_volume_zone1_is_null', 'data_volume_zone2_is_null', \n",
    "    'data_volume_freq_top_pack_is_null', 'on_net_region_is_null', 'on_net_revenue_is_null', 'zone1_zone2_is_null', \n",
    "    'freq_top_pack_region_is_null', 'freq_top_pack_revenue_is_null', 'freq_top_pack_on_net_is_null', 'rev_good', \n",
    "    'other_cnt_calls', 'cnt_calls', 'cnt_data_voice', 'on_net_part', 'data_volume_median_top_pack', \n",
    "    'montant_median_top_pack', 'frequence_rech_median_top_pack', 'revenue_median_top_pack', 'frequence_median_top_pack',\n",
    "    'on_net_median_top_pack', 'regularity_median_top_pack'\n",
    "]"
   ]
  },
  {
   "cell_type": "markdown",
   "metadata": {},
   "source": [
    "## LightGBM"
   ]
  },
  {
   "cell_type": "code",
   "execution_count": null,
   "metadata": {},
   "outputs": [],
   "source": [
    "lgb_params = {\n",
    "    \"objective\": \"binary\", \n",
    "    \"metric\": \"auc\",\n",
    "    \"learning_rate\": 0.02,\n",
    "    \"n_estimators\": 1300,\n",
    "    \"colsample_bytree\": 0.7,\n",
    "    \"subsample\": 0.8,\n",
    "    \"subsample_freq\": 5,\n",
    "    \"num_leaves\": 128,\n",
    "    \"random_state\": 123,\n",
    "    \"min_child_samples\": 20,\n",
    "    \"lambda_l1\": 5,\n",
    "    \"lambda_l2\": 5,\n",
    "}"
   ]
  },
  {
   "cell_type": "code",
   "execution_count": null,
   "metadata": {},
   "outputs": [],
   "source": [
    "models_lgb = []\n",
    "\n",
    "for fold_n, (train_index, valid_index) in enumerate(folds.split(df, y)):\n",
    "    print(f'Fold {fold_n}')\n",
    "    X_train, X_valid = df.iloc[train_index], df.iloc[valid_index]\n",
    "    y_train, y_valid = y.iloc[train_index], y.iloc[valid_index]\n",
    "    \n",
    "    model = lgb.LGBMClassifier(**lgb_params)\n",
    "    model.fit(X_train[features], y_train, \n",
    "              eval_set=[(X_train[features], y_train), (X_valid[features], y_valid)], verbose=50, early_stopping_rounds=90)\n",
    "    \n",
    "    models_lgb.append(model)"
   ]
  },
  {
   "cell_type": "markdown",
   "metadata": {},
   "source": [
    "## Catboost"
   ]
  },
  {
   "cell_type": "code",
   "execution_count": null,
   "metadata": {},
   "outputs": [],
   "source": [
    "params_cat = {\n",
    "    'loss_function': 'Logloss',\n",
    "    'eval_metric': 'AUC',\n",
    "    'bootstrap_type': 'Bernoulli',\n",
    "    'max_depth': 7,\n",
    "    'learning_rate': 0.04,\n",
    "    'random_state': 1234,\n",
    "    'num_boost_round': 1800,\n",
    "    \"subsample\": 0.9,\n",
    "    \"border_count\": 512,\n",
    "    \"l2_leaf_reg\": 5,\n",
    "}"
   ]
  },
  {
   "cell_type": "code",
   "execution_count": null,
   "metadata": {
    "scrolled": true
   },
   "outputs": [],
   "source": [
    "cat_models = []\n",
    "for fold_n, (train_index, valid_index) in enumerate(folds.split(df, y)):\n",
    "    print(f'Fold {fold_n}')\n",
    "    X_train, X_valid = df[features].iloc[train_index], df[features].iloc[valid_index]\n",
    "    y_train, y_valid = y.iloc[train_index], y.iloc[valid_index]\n",
    "    \n",
    "    train_dataset = cat.Pool(X_train, y_train)\n",
    "    val_dataset = cat.Pool(X_valid, y_valid)\n",
    "    model = cat.train(params=params_cat,\n",
    "                      pool=train_dataset, \n",
    "                      eval_set=[train_dataset, val_dataset], \n",
    "                      verbose_eval=50,\n",
    "                      early_stopping_rounds=90)\n",
    "    \n",
    "    cat_models.append(model)"
   ]
  },
  {
   "cell_type": "markdown",
   "metadata": {},
   "source": [
    "## Final prediction"
   ]
  },
  {
   "cell_type": "code",
   "execution_count": null,
   "metadata": {},
   "outputs": [],
   "source": [
    "test, _ = preparing(pd.read_csv('Test.csv'), is_train=False)\n",
    "test = test.merge(agg_by_top_pack, on='top_pack', how='left')  # aggregations by top_pack from train dataset\n",
    "test[\"lgb\"] = 0\n",
    "test[\"cat\"] = 0"
   ]
  },
  {
   "cell_type": "code",
   "execution_count": null,
   "metadata": {},
   "outputs": [],
   "source": [
    "for i,m in enumerate(models_lgb):\n",
    "    test[\"lgb\"] += m.predict_proba(test[features])[:,1]/5.000\n",
    "for i,m in enumerate(cat_models):\n",
    "    test[\"cat\"] += m.predict(test[features])/5.000"
   ]
  },
  {
   "cell_type": "code",
   "execution_count": null,
   "metadata": {},
   "outputs": [],
   "source": [
    "def sigmoid(x):\n",
    "    return 1 / (1 + np.exp(-x))\n",
    "\n",
    "test['cat'] = sigmoid(test['cat'])"
   ]
  },
  {
   "cell_type": "code",
   "execution_count": null,
   "metadata": {},
   "outputs": [],
   "source": [
    "# save file for submit\n",
    "test[\"CHURN\"] = 0.5*test.cat + 0.5*test.lgb\n",
    "test[[\"user_id\", \"CHURN\"]].to_csv('cat_lgb_5_5.csv', index=None)"
   ]
  },
  {
   "cell_type": "code",
   "execution_count": null,
   "metadata": {},
   "outputs": [],
   "source": []
  }
 ],
 "metadata": {
  "kernelspec": {
   "display_name": "Python 3",
   "language": "python",
   "name": "python3"
  },
  "language_info": {
   "codemirror_mode": {
    "name": "ipython",
    "version": 3
   },
   "file_extension": ".py",
   "mimetype": "text/x-python",
   "name": "python",
   "nbconvert_exporter": "python",
   "pygments_lexer": "ipython3",
   "version": "3.7.3"
  }
 },
 "nbformat": 4,
 "nbformat_minor": 2
}
